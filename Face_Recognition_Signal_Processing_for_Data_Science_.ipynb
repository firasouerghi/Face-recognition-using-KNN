{
  "nbformat": 4,
  "nbformat_minor": 0,
  "metadata": {
    "colab": {
      "name": "Face Recognition Signal Processing for Data Science .ipynb",
      "provenance": [],
      "collapsed_sections": [],
      "include_colab_link": true
    },
    "kernelspec": {
      "name": "python3",
      "display_name": "Python 3"
    },
    "accelerator": "GPU"
  },
  "cells": [
    {
      "cell_type": "markdown",
      "metadata": {
        "id": "view-in-github",
        "colab_type": "text"
      },
      "source": [
        "<a href=\"https://colab.research.google.com/github/firasouerghi/Face-recognition-using-KNN/blob/master/Face_Recognition_Signal_Processing_for_Data_Science_.ipynb\" target=\"_parent\"><img src=\"https://colab.research.google.com/assets/colab-badge.svg\" alt=\"Open In Colab\"/></a>"
      ]
    },
    {
      "cell_type": "markdown",
      "metadata": {
        "id": "FkMT8z1ez5Wz",
        "colab_type": "text"
      },
      "source": [
        ""
      ]
    },
    {
      "cell_type": "code",
      "metadata": {
        "id": "VZb2T7Jmzch-",
        "colab_type": "code",
        "colab": {}
      },
      "source": [
        "import pandas as pd \n",
        "import numpy as np\n",
        "import seaborn as sns \n",
        "from sklearn.model_selection import train_test_split\n",
        "sns.set()\n",
        "import matplotlib.pyplot as plt \n",
        "%matplotlib inline "
      ],
      "execution_count": 0,
      "outputs": []
    },
    {
      "cell_type": "code",
      "metadata": {
        "id": "jvGZd3Ln3eij",
        "colab_type": "code",
        "colab": {}
      },
      "source": [
        "data=pd.read_csv(\"/content/face_data.csv\")"
      ],
      "execution_count": 0,
      "outputs": []
    },
    {
      "cell_type": "code",
      "metadata": {
        "id": "_GFNh3LP5gMN",
        "colab_type": "code",
        "outputId": "cf067815-2d93-4dfe-a58f-7e0da03b9ed7",
        "colab": {
          "base_uri": "https://localhost:8080/",
          "height": 86
        }
      },
      "source": [
        "print(data.head())\n",
        "Target=data['name']\n",
        "features=data.drop('name',axis=1)\n",
        "#print(Target)\n"
      ],
      "execution_count": 0,
      "outputs": [
        {
          "output_type": "stream",
          "text": [
            "   Unnamed: 0   0   1   2    3    4  ...  9994  9995  9996   9997   9998   9999\n",
            "2           2  75  79  89  100  103  ...  75.0  72.0  86.0  118.0  142.0  152.0\n",
            "\n",
            "[1 rows x 10001 columns]\n"
          ],
          "name": "stdout"
        }
      ]
    },
    {
      "cell_type": "code",
      "metadata": {
        "id": "S_jieRgKZqOk",
        "colab_type": "code",
        "outputId": "df6b2396-91b4-4744-bc01-fc60ba21743a",
        "colab": {
          "base_uri": "https://localhost:8080/",
          "height": 588
        }
      },
      "source": [
        "#Draw the histogram\n",
        "M=np.asarray(features.iloc[[2]])\n",
        "print(Target.iloc[[2]])\n",
        "N=np.asarray(features.iloc[[100]])\n",
        "print(Target.iloc[[100]])\n",
        "fig, ax = plt.subplots(1, 1)\n",
        "ax.hist(M.ravel(), bins=32, range=[0, 256])\n",
        "ax.set_xlim(0, 256);\n",
        "fig, ax = plt.subplots(1, 1)\n",
        "ax.hist(N.ravel(), bins=32, range=[0, 256])\n",
        "ax.set_xlim(0, 256);\n"
      ],
      "execution_count": 0,
      "outputs": [
        {
          "output_type": "stream",
          "text": [
            "2    firas\n",
            "Name: name, dtype: object\n",
            "100    Fedi\n",
            "Name: name, dtype: object\n"
          ],
          "name": "stdout"
        },
        {
          "output_type": "display_data",
          "data": {
            "image/png": "[encoded data removed]",
            "text/plain": [
              "<Figure size 432x288 with 1 Axes>"
            ]
          },
          "metadata": {
            "tags": []
          }
        },
        {
          "output_type": "display_data",
          "data": {
            "image/png": "[encoded data removed]",
            "text/plain": [
              "<Figure size 432x288 with 1 Axes>"
            ]
          },
          "metadata": {
            "tags": []
          }
        }
      ]
    },
    {
      "cell_type": "code",
      "metadata": {
        "id": "pKJdu-kf6bWH",
        "colab_type": "code",
        "colab": {}
      },
      "source": [
        "X_train, X_test, y_train, y_test = train_test_split(features, Target, test_size=0.3, random_state=101)"
      ],
      "execution_count": 0,
      "outputs": []
    },
    {
      "cell_type": "code",
      "metadata": {
        "id": "z1hNdzBIEM4b",
        "colab_type": "code",
        "colab": {}
      },
      "source": [
        "from sklearn.neighbors import KNeighborsClassifier "
      ],
      "execution_count": 0,
      "outputs": []
    },
    {
      "cell_type": "code",
      "metadata": {
        "id": "wPW2XgU2H25P",
        "colab_type": "code",
        "colab": {}
      },
      "source": [
        "knn=KNeighborsClassifier(n_neighbors=5)"
      ],
      "execution_count": 0,
      "outputs": []
    },
    {
      "cell_type": "code",
      "metadata": {
        "id": "UjCYGRSsHh1s",
        "colab_type": "code",
        "outputId": "66246ac4-bf0f-475a-88e7-ba8d0ef0c032",
        "colab": {
          "base_uri": "https://localhost:8080/",
          "height": 69
        }
      },
      "source": [
        "knn.fit(X_train,y_train)"
      ],
      "execution_count": 0,
      "outputs": [
        {
          "output_type": "execute_result",
          "data": {
            "text/plain": [
              "KNeighborsClassifier(algorithm='auto', leaf_size=30, metric='minkowski',\n",
              "                     metric_params=None, n_jobs=None, n_neighbors=5, p=2,\n",
              "                     weights='uniform')"
            ]
          },
          "metadata": {
            "tags": []
          },
          "execution_count": 15
        }
      ]
    },
    {
      "cell_type": "code",
      "metadata": {
        "id": "bgrSQb5zIk8D",
        "colab_type": "code",
        "colab": {}
      },
      "source": [
        "pred=knn.predict(X_test)"
      ],
      "execution_count": 0,
      "outputs": []
    },
    {
      "cell_type": "code",
      "metadata": {
        "id": "KUESlTb_IIt_",
        "colab_type": "code",
        "colab": {}
      },
      "source": [
        "from sklearn.metrics import confusion_matrix, classification_report"
      ],
      "execution_count": 0,
      "outputs": []
    },
    {
      "cell_type": "code",
      "metadata": {
        "id": "hQ2C-mVrIdxw",
        "colab_type": "code",
        "outputId": "95e3c888-221e-4fb3-bac0-e78786d6e815",
        "colab": {
          "base_uri": "https://localhost:8080/",
          "height": 225
        }
      },
      "source": [
        "print(confusion_matrix(y_test,pred))"
      ],
      "execution_count": 0,
      "outputs": [
        {
          "output_type": "stream",
          "text": [
            "[[33  0  0  0  1  0  0  0  1  0  0  0]\n",
            " [ 0 42  0  0  0  0  0  0  0  0  0  0]\n",
            " [ 0  0 28  0  1  0  1  0  0  0  0  0]\n",
            " [ 0  0  0 29  0  0  0  0  0  0  0  0]\n",
            " [ 0  0  0  0 34  0  0  0  0  0  0  0]\n",
            " [ 0  0  0  0  0 33  0  0  0  0  0  0]\n",
            " [ 0  0  0  0  0  0 31  0  0  0  0  0]\n",
            " [ 0  0  0  0  0  0  0 27  0  0  0  0]\n",
            " [ 0  0  0  0  0  0  0  0 31  0  0  0]\n",
            " [ 0  0  0  0  0  0  0  0  0 24  0  0]\n",
            " [ 0  0  0  0  0  0  0  0  0  0  2  0]\n",
            " [ 0  0  0  0  0  0  0  0  0  0  0 30]]\n"
          ],
          "name": "stdout"
        }
      ]
    },
    {
      "cell_type": "code",
      "metadata": {
        "id": "Z7h0AMfcI83M",
        "colab_type": "code",
        "outputId": "03f22435-c34b-4f32-8cdb-80106bb9da5b",
        "colab": {
          "base_uri": "https://localhost:8080/",
          "height": 347
        }
      },
      "source": [
        "print(classification_report(y_test,pred))"
      ],
      "execution_count": 0,
      "outputs": [
        {
          "output_type": "stream",
          "text": [
            "              precision    recall  f1-score   support\n",
            "\n",
            "        Fedi       1.00      0.94      0.97        35\n",
            "       firas       1.00      1.00      1.00        42\n",
            "       ghada       1.00      0.93      0.97        30\n",
            "     haithem       1.00      1.00      1.00        29\n",
            "       louay       0.94      1.00      0.97        34\n",
            "      maryem       1.00      1.00      1.00        33\n",
            "      mayssa       0.97      1.00      0.98        31\n",
            "       mehdi       1.00      1.00      1.00        27\n",
            "     mohamed       0.97      1.00      0.98        31\n",
            "        olfa       1.00      1.00      1.00        24\n",
            "       sejda       1.00      1.00      1.00         2\n",
            "       siwar       1.00      1.00      1.00        30\n",
            "\n",
            "    accuracy                           0.99       348\n",
            "   macro avg       0.99      0.99      0.99       348\n",
            "weighted avg       0.99      0.99      0.99       348\n",
            "\n"
          ],
          "name": "stdout"
        }
      ]
    },
    {
      "cell_type": "code",
      "metadata": {
        "id": "aDhEw7jMJRUm",
        "colab_type": "code",
        "colab": {}
      },
      "source": [
        "erro_rate=[]\n",
        "for i in range (1,70):\n",
        "  knn=KNeighborsClassifier(n_neighbors=i,weights='distance',algorithm='ball_tree')\n",
        "  knn.fit(X_train,y_train)\n",
        "  pred_i=knn.predict(X_test)\n",
        "  erro_rate.append(np.mean(pred_i != y_test ))"
      ],
      "execution_count": 0,
      "outputs": []
    },
    {
      "cell_type": "code",
      "metadata": {
        "id": "kOoTkSETKfi6",
        "colab_type": "code",
        "outputId": "d4cfbe16-fb68-43af-8be7-63e85c7fe27a",
        "colab": {
          "base_uri": "https://localhost:8080/",
          "height": 664
        }
      },
      "source": [
        "plt.figure(figsize=(20,10))\n",
        "plt.plot(range(1,70),erro_rate,color='blue',linestyle='--',marker='o',markerfacecolor='red',markersize=10)\n",
        "plt.title(\"Error Rate Vs K\")\n",
        "plt.ylabel(\"Error Rate\")\n",
        "plt.xlabel('k')"
      ],
      "execution_count": 0,
      "outputs": [
        {
          "output_type": "execute_result",
          "data": {
            "text/plain": [
              "Text(0.5, 0, 'k')"
            ]
          },
          "metadata": {
            "tags": []
          },
          "execution_count": 75
        },
        {
          "output_type": "display_data",
          "data": {
            "image/png": "[encoded data removed]",
            "text/plain": [
              "<Figure size 1440x720 with 1 Axes>"
            ]
          },
          "metadata": {
            "tags": []
          }
        }
      ]
    },
    {
      "cell_type": "code",
      "metadata": {
        "id": "H6z2BXVCNj4F",
        "colab_type": "code",
        "colab": {}
      },
      "source": [
        ""
      ],
      "execution_count": 0,
      "outputs": []
    }
  ]
}